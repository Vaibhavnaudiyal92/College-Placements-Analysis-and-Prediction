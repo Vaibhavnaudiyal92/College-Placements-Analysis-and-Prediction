{
 "cells": [
  {
   "cell_type": "markdown",
   "execution_count": null,
   "metadata": {
    "papermill": {
     "duration": 0.014659,
     "end_time": "2020-08-17T15:01:10.521921",
     "exception": false,
     "start_time": "2020-08-17T15:01:10.507262",
     "status": "completed"
    },
    "tags": []
   },
   "source": [
    "# Introduction"
   ]
  },
  {
   "cell_type": "markdown",
   "execution_count": null,
   "metadata": {
    "papermill": {
     "duration": 0.013901,
     "end_time": "2020-08-17T15:01:10.548498",
     "exception": false,
     "start_time": "2020-08-17T15:01:10.534597",
     "status": "completed"
    },
    "tags": []
   },
   "source": [
    "Almost each and every student has to go through placement process during the final year of their respective university courses. But what factors really affect the placement of a student? Is it their college degree percentage? School percentage? Performance in the entrance test of company?\n",
    "We will be studying about all these factors in the given notebook. Not only this, we will also be developing a predictive model to classify if a given student can get a placement or not."
   ]
  },
  {
   "cell_type": "code",
   "execution_count": 1,
   "metadata": {
    "_cell_guid": "b1076dfc-b9ad-4769-8c92-a6c4dae69d19",
    "_uuid": "8f2839f25d086af736a60e9eeb907d3b93b6e0e5",
    "execution": {
     "iopub.execute_input": "2020-08-17T15:01:10.581406Z",
     "iopub.status.busy": "2020-08-17T15:01:10.580589Z",
     "iopub.status.idle": "2020-08-17T15:01:11.535147Z",
     "shell.execute_reply": "2020-08-17T15:01:11.534419Z"
    },
    "papermill": {
     "duration": 0.974254,
     "end_time": "2020-08-17T15:01:11.535282",
     "exception": false,
     "start_time": "2020-08-17T15:01:10.561028",
     "status": "completed"
    },
    "tags": []
   },
   "outputs": [
    {
     "name": "stdout",
     "output_type": "stream",
     "text": [
      "/kaggle/input/factors-affecting-campus-placement/Placement_Data_Full_Class.csv\n"
     ]
    }
   ],
   "source": [
    "import numpy as np\n",
    "import pandas as pd\n",
    "\n",
    "import os\n",
    "for dirname, _, filenames in os.walk('/kaggle/input'):\n",
    "    for filename in filenames:\n",
    "        print(os.path.join(dirname, filename))\n",
    "import seaborn as sns\n",
    "from matplotlib import pyplot as plt"
   ]
  },
  {
   "cell_type": "code",
   "execution_count": 2,
   "metadata": {
    "_cell_guid": "79c7e3d0-c299-4dcb-8224-4455121ee9b0",
    "_uuid": "d629ff2d2480ee46fbb7e2d37f6b5fab8052498a",
    "execution": {
     "iopub.execute_input": "2020-08-17T15:01:11.570041Z",
     "iopub.status.busy": "2020-08-17T15:01:11.568960Z",
     "iopub.status.idle": "2020-08-17T15:01:11.582101Z",
     "shell.execute_reply": "2020-08-17T15:01:11.581320Z"
    },
    "papermill": {
     "duration": 0.033773,
     "end_time": "2020-08-17T15:01:11.582229",
     "exception": false,
     "start_time": "2020-08-17T15:01:11.548456",
     "status": "completed"
    },
    "tags": []
   },
   "outputs": [],
   "source": [
    "dataset = pd.read_csv('/kaggle/input/factors-affecting-campus-placement/Placement_Data_Full_Class.csv')"
   ]
  },
  {
   "cell_type": "markdown",
   "execution_count": null,
   "metadata": {
    "papermill": {
     "duration": 0.01267,
     "end_time": "2020-08-17T15:01:11.607881",
     "exception": false,
     "start_time": "2020-08-17T15:01:11.595211",
     "status": "completed"
    },
    "tags": []
   },
   "source": [
    "# Exploratory Data Analysis"
   ]
  },
  {
   "cell_type": "code",
   "execution_count": 3,
   "metadata": {
    "execution": {
     "iopub.execute_input": "2020-08-17T15:01:11.647821Z",
     "iopub.status.busy": "2020-08-17T15:01:11.646960Z",
     "iopub.status.idle": "2020-08-17T15:01:11.651599Z",
     "shell.execute_reply": "2020-08-17T15:01:11.650970Z"
    },
    "papermill": {
     "duration": 0.030915,
     "end_time": "2020-08-17T15:01:11.651731",
     "exception": false,
     "start_time": "2020-08-17T15:01:11.620816",
     "status": "completed"
    },
    "tags": []
   },
   "outputs": [
    {
     "data": {
      "text/plain": [
       "sl_no              0\n",
       "gender             0\n",
       "ssc_p              0\n",
       "ssc_b              0\n",
       "hsc_p              0\n",
       "hsc_b              0\n",
       "hsc_s              0\n",
       "degree_p           0\n",
       "degree_t           0\n",
       "workex             0\n",
       "etest_p            0\n",
       "specialisation     0\n",
       "mba_p              0\n",
       "status             0\n",
       "salary            67\n",
       "dtype: int64"
      ]
     },
     "execution_count": 3,
     "metadata": {},
     "output_type": "execute_result"
    }
   ],
   "source": [
    "dataset.isnull().sum()"
   ]
  },
  {
   "cell_type": "code",
   "execution_count": 4,
   "metadata": {
    "execution": {
     "iopub.execute_input": "2020-08-17T15:01:11.684601Z",
     "iopub.status.busy": "2020-08-17T15:01:11.683791Z",
     "iopub.status.idle": "2020-08-17T15:01:11.686519Z",
     "shell.execute_reply": "2020-08-17T15:01:11.687045Z"
    },
    "papermill": {
     "duration": 0.022532,
     "end_time": "2020-08-17T15:01:11.687210",
     "exception": false,
     "start_time": "2020-08-17T15:01:11.664678",
     "status": "completed"
    },
    "tags": []
   },
   "outputs": [],
   "source": [
    "sns.set(style=\"whitegrid\")"
   ]
  },
  {
   "cell_type": "code",
   "execution_count": 5,
   "metadata": {
    "execution": {
     "iopub.execute_input": "2020-08-17T15:01:11.718966Z",
     "iopub.status.busy": "2020-08-17T15:01:11.718180Z",
     "iopub.status.idle": "2020-08-17T15:01:12.133818Z",
     "shell.execute_reply": "2020-08-17T15:01:12.134387Z"
    },
    "papermill": {
     "duration": 0.434454,
     "end_time": "2020-08-17T15:01:12.134574",
     "exception": false,
     "start_time": "2020-08-17T15:01:11.700120",
     "status": "completed"
    },
    "tags": []
   },
   "outputs": [
    {
     "data": {
      "text/plain": [
       "<matplotlib.axes._subplots.AxesSubplot at 0x7efbcf8c85d0>"
      ]
     },
     "execution_count": 5,
     "metadata": {},
     "output_type": "execute_result"
    },
    {
     "data": {
      "image/png": "[encoded data removed]",
      "text/plain": [
       "<Figure size 432x288 with 1 Axes>"
      ]
     },
     "metadata": {},
     "output_type": "display_data"
    }
   ],
   "source": [
    "sns.distplot(dataset.salary)"
   ]
  },
  {
   "cell_type": "markdown",
   "execution_count": null,
   "metadata": {
    "papermill": {
     "duration": 0.013488,
     "end_time": "2020-08-17T15:01:12.161735",
     "exception": false,
     "start_time": "2020-08-17T15:01:12.148247",
     "status": "completed"
    },
    "tags": []
   },
   "source": [
    "We will fill missing salaries with 0s as they represent students who have not got placement offer. "
   ]
  },
  {
   "cell_type": "code",
   "execution_count": 6,
   "metadata": {
    "execution": {
     "iopub.execute_input": "2020-08-17T15:01:12.195855Z",
     "iopub.status.busy": "2020-08-17T15:01:12.194971Z",
     "iopub.status.idle": "2020-08-17T15:01:12.198445Z",
     "shell.execute_reply": "2020-08-17T15:01:12.197823Z"
    },
    "papermill": {
     "duration": 0.023277,
     "end_time": "2020-08-17T15:01:12.198593",
     "exception": false,
     "start_time": "2020-08-17T15:01:12.175316",
     "status": "completed"
    },
    "tags": []
   },
   "outputs": [],
   "source": [
    "dataset['salary']=dataset['salary'].fillna(0)"
   ]
  },
  {
   "cell_type": "markdown",
   "execution_count": null,
   "metadata": {
    "papermill": {
     "duration": 0.01343,
     "end_time": "2020-08-17T15:01:12.225533",
     "exception": false,
     "start_time": "2020-08-17T15:01:12.212103",
     "status": "completed"
    },
    "tags": []
   },
   "source": [
    "## Gender based analysis"
   ]
  },
  {
   "cell_type": "code",
   "execution_count": 7,
   "metadata": {
    "execution": {
     "iopub.execute_input": "2020-08-17T15:01:12.267084Z",
     "iopub.status.busy": "2020-08-17T15:01:12.266307Z",
     "iopub.status.idle": "2020-08-17T15:01:12.480282Z",
     "shell.execute_reply": "2020-08-17T15:01:12.479498Z"
    },
    "papermill": {
     "duration": 0.241553,
     "end_time": "2020-08-17T15:01:12.480487",
     "exception": false,
     "start_time": "2020-08-17T15:01:12.238934",
     "status": "completed"
    },
    "tags": []
   },
   "outputs": [
    {
     "data": {
      "text/plain": [
       "<matplotlib.axes._subplots.AxesSubplot at 0x7efbcf913f50>"
      ]
     },
     "execution_count": 7,
     "metadata": {},
     "output_type": "execute_result"
    },
    {
     "data": {
      "image/png": "[encoded data removed]",
      "text/plain": [
       "<Figure size 432x288 with 1 Axes>"
      ]
     },
     "metadata": {},
     "output_type": "display_data"
    }
   ],
   "source": [
    "sns.barplot(x = dataset['gender'],y = dataset['salary'])"
   ]
  },
  {
   "cell_type": "code",
   "execution_count": 8,
   "metadata": {
    "execution": {
     "iopub.execute_input": "2020-08-17T15:01:12.518799Z",
     "iopub.status.busy": "2020-08-17T15:01:12.516577Z",
     "iopub.status.idle": "2020-08-17T15:01:12.751538Z",
     "shell.execute_reply": "2020-08-17T15:01:12.750757Z"
    },
    "papermill": {
     "duration": 0.257147,
     "end_time": "2020-08-17T15:01:12.751671",
     "exception": false,
     "start_time": "2020-08-17T15:01:12.494524",
     "status": "completed"
    },
    "tags": []
   },
   "outputs": [
    {
     "data": {
      "text/plain": [
       "<matplotlib.axes._subplots.AxesSubplot at 0x7efbcf5b6ad0>"
      ]
     },
     "execution_count": 8,
     "metadata": {},
     "output_type": "execute_result"
    },
    {
     "data": {
      "image/png": "[encoded data removed]",
      "text/plain": [
       "<Figure size 432x288 with 1 Axes>"
      ]
     },
     "metadata": {},
     "output_type": "display_data"
    }
   ],
   "source": [
    "sns.barplot(x = dataset['gender'],y = dataset['ssc_p'])"
   ]
  },
  {
   "cell_type": "code",
   "execution_count": 9,
   "metadata": {
    "execution": {
     "iopub.execute_input": "2020-08-17T15:01:12.790437Z",
     "iopub.status.busy": "2020-08-17T15:01:12.789332Z",
     "iopub.status.idle": "2020-08-17T15:01:13.010204Z",
     "shell.execute_reply": "2020-08-17T15:01:13.009455Z"
    },
    "papermill": {
     "duration": 0.243874,
     "end_time": "2020-08-17T15:01:13.010329",
     "exception": false,
     "start_time": "2020-08-17T15:01:12.766455",
     "status": "completed"
    },
    "tags": []
   },
   "outputs": [
    {
     "data": {
      "text/plain": [
       "<matplotlib.axes._subplots.AxesSubplot at 0x7efbcf597a90>"
      ]
     },
     "execution_count": 9,
     "metadata": {},
     "output_type": "execute_result"
    },
    {
     "data": {
      "image/png": "[encoded data removed]",
      "text/plain": [
       "<Figure size 432x288 with 1 Axes>"
      ]
     },
     "metadata": {},
     "output_type": "display_data"
    }
   ],
   "source": [
    "sns.barplot(x = dataset['gender'],y = dataset['hsc_p'])"
   ]
  },
  {
   "cell_type": "code",
   "execution_count": 10,
   "metadata": {
    "execution": {
     "iopub.execute_input": "2020-08-17T15:01:13.049592Z",
     "iopub.status.busy": "2020-08-17T15:01:13.048458Z",
     "iopub.status.idle": "2020-08-17T15:01:13.269428Z",
     "shell.execute_reply": "2020-08-17T15:01:13.268687Z"
    },
    "papermill": {
     "duration": 0.244038,
     "end_time": "2020-08-17T15:01:13.269574",
     "exception": false,
     "start_time": "2020-08-17T15:01:13.025536",
     "status": "completed"
    },
    "tags": []
   },
   "outputs": [
    {
     "data": {
      "text/plain": [
       "<matplotlib.axes._subplots.AxesSubplot at 0x7efbcf59f7d0>"
      ]
     },
     "execution_count": 10,
     "metadata": {},
     "output_type": "execute_result"
    },
    {
     "data": {
      "image/png": "[encoded data removed]",
      "text/plain": [
       "<Figure size 432x288 with 1 Axes>"
      ]
     },
     "metadata": {},
     "output_type": "display_data"
    }
   ],
   "source": [
    "sns.barplot(x = dataset['gender'],y = dataset['degree_p'])"
   ]
  },
  {
   "cell_type": "code",
   "execution_count": 11,
   "metadata": {
    "execution": {
     "iopub.execute_input": "2020-08-17T15:01:13.310444Z",
     "iopub.status.busy": "2020-08-17T15:01:13.309701Z",
     "iopub.status.idle": "2020-08-17T15:01:13.531303Z",
     "shell.execute_reply": "2020-08-17T15:01:13.531883Z"
    },
    "papermill": {
     "duration": 0.247106,
     "end_time": "2020-08-17T15:01:13.532061",
     "exception": false,
     "start_time": "2020-08-17T15:01:13.284955",
     "status": "completed"
    },
    "tags": []
   },
   "outputs": [
    {
     "data": {
      "text/plain": [
       "<matplotlib.axes._subplots.AxesSubplot at 0x7efbcf4e0c50>"
      ]
     },
     "execution_count": 11,
     "metadata": {},
     "output_type": "execute_result"
    },
    {
     "data": {
      "image/png": "[encoded data removed]",
      "text/plain": [
       "<Figure size 432x288 with 1 Axes>"
      ]
     },
     "metadata": {},
     "output_type": "display_data"
    }
   ],
   "source": [
    "sns.barplot(x = dataset['gender'],y = dataset['mba_p'])"
   ]
  },
  {
   "cell_type": "markdown",
   "execution_count": null,
   "metadata": {
    "papermill": {
     "duration": 0.015239,
     "end_time": "2020-08-17T15:01:13.562982",
     "exception": false,
     "start_time": "2020-08-17T15:01:13.547743",
     "status": "completed"
    },
    "tags": []
   },
   "source": [
    "Observation 1 - Men are getting higher salaries than women even when women scored higher percentages during their school and college degrees."
   ]
  },
  {
   "cell_type": "markdown",
   "execution_count": null,
   "metadata": {
    "papermill": {
     "duration": 0.015245,
     "end_time": "2020-08-17T15:01:13.593943",
     "exception": false,
     "start_time": "2020-08-17T15:01:13.578698",
     "status": "completed"
    },
    "tags": []
   },
   "source": [
    "## Placement status based analysis"
   ]
  },
  {
   "cell_type": "code",
   "execution_count": 12,
   "metadata": {
    "execution": {
     "iopub.execute_input": "2020-08-17T15:01:13.637205Z",
     "iopub.status.busy": "2020-08-17T15:01:13.633081Z",
     "iopub.status.idle": "2020-08-17T15:01:13.874824Z",
     "shell.execute_reply": "2020-08-17T15:01:13.874143Z"
    },
    "papermill": {
     "duration": 0.265353,
     "end_time": "2020-08-17T15:01:13.874966",
     "exception": false,
     "start_time": "2020-08-17T15:01:13.609613",
     "status": "completed"
    },
    "tags": []
   },
   "outputs": [
    {
     "data": {
      "text/plain": [
       "<matplotlib.axes._subplots.AxesSubplot at 0x7efbcf44cfd0>"
      ]
     },
     "execution_count": 12,
     "metadata": {},
     "output_type": "execute_result"
    },
    {
     "data": {
      "image/png": "[encoded data removed]",
      "text/plain": [
       "<Figure size 432x288 with 1 Axes>"
      ]
     },
     "metadata": {},
     "output_type": "display_data"
    }
   ],
   "source": [
    "sns.boxplot(x = dataset['status'], y = dataset['mba_p'])"
   ]
  },
  {
   "cell_type": "code",
   "execution_count": 13,
   "metadata": {
    "execution": {
     "iopub.execute_input": "2020-08-17T15:01:13.920385Z",
     "iopub.status.busy": "2020-08-17T15:01:13.919517Z",
     "iopub.status.idle": "2020-08-17T15:01:14.079365Z",
     "shell.execute_reply": "2020-08-17T15:01:14.078749Z"
    },
    "papermill": {
     "duration": 0.188485,
     "end_time": "2020-08-17T15:01:14.079511",
     "exception": false,
     "start_time": "2020-08-17T15:01:13.891026",
     "status": "completed"
    },
    "tags": []
   },
   "outputs": [
    {
     "data": {
      "text/plain": [
       "<matplotlib.axes._subplots.AxesSubplot at 0x7efbcf453ed0>"
      ]
     },
     "execution_count": 13,
     "metadata": {},
     "output_type": "execute_result"
    },
    {
     "data": {
      "image/png": "[encoded data removed]",
      "text/plain": [
       "<Figure size 432x288 with 1 Axes>"
      ]
     },
     "metadata": {},
     "output_type": "display_data"
    }
   ],
   "source": [
    "sns.boxplot(x = dataset['status'], y = dataset['degree_p'])"
   ]
  },
  {
   "cell_type": "code",
   "execution_count": 14,
   "metadata": {
    "execution": {
     "iopub.execute_input": "2020-08-17T15:01:14.120548Z",
     "iopub.status.busy": "2020-08-17T15:01:14.119745Z",
     "iopub.status.idle": "2020-08-17T15:01:14.294103Z",
     "shell.execute_reply": "2020-08-17T15:01:14.293307Z"
    },
    "papermill": {
     "duration": 0.198337,
     "end_time": "2020-08-17T15:01:14.294230",
     "exception": false,
     "start_time": "2020-08-17T15:01:14.095893",
     "status": "completed"
    },
    "tags": []
   },
   "outputs": [
    {
     "data": {
      "text/plain": [
       "<matplotlib.axes._subplots.AxesSubplot at 0x7efbcf3a5e50>"
      ]
     },
     "execution_count": 14,
     "metadata": {},
     "output_type": "execute_result"
    },
    {
     "data": {
      "image/png": "[encoded data removed]",
      "text/plain": [
       "<Figure size 432x288 with 1 Axes>"
      ]
     },
     "metadata": {},
     "output_type": "display_data"
    }
   ],
   "source": [
    "sns.boxplot(x = dataset['status'], y = dataset['hsc_p'])"
   ]
  },
  {
   "cell_type": "code",
   "execution_count": 15,
   "metadata": {
    "execution": {
     "iopub.execute_input": "2020-08-17T15:01:14.341187Z",
     "iopub.status.busy": "2020-08-17T15:01:14.340384Z",
     "iopub.status.idle": "2020-08-17T15:01:14.501655Z",
     "shell.execute_reply": "2020-08-17T15:01:14.502201Z"
    },
    "papermill": {
     "duration": 0.190991,
     "end_time": "2020-08-17T15:01:14.502378",
     "exception": false,
     "start_time": "2020-08-17T15:01:14.311387",
     "status": "completed"
    },
    "tags": []
   },
   "outputs": [
    {
     "data": {
      "text/plain": [
       "<matplotlib.axes._subplots.AxesSubplot at 0x7efbcf329dd0>"
      ]
     },
     "execution_count": 15,
     "metadata": {},
     "output_type": "execute_result"
    },
    {
     "data": {
      "image/png": "[encoded data removed]",
      "text/plain": [
       "<Figure size 432x288 with 1 Axes>"
      ]
     },
     "metadata": {},
     "output_type": "display_data"
    }
   ],
   "source": [
    "sns.boxplot(x = dataset['status'], y = dataset['ssc_p'])"
   ]
  },
  {
   "cell_type": "markdown",
   "execution_count": null,
   "metadata": {
    "papermill": {
     "duration": 0.017386,
     "end_time": "2020-08-17T15:01:14.537582",
     "exception": false,
     "start_time": "2020-08-17T15:01:14.520196",
     "status": "completed"
    },
    "tags": []
   },
   "source": [
    "Observation 2 - Students with higher percentages/better academic results were able to perform well during placements compared to those who had relatively lower academic results"
   ]
  },
  {
   "cell_type": "markdown",
   "execution_count": null,
   "metadata": {
    "papermill": {
     "duration": 0.017188,
     "end_time": "2020-08-17T15:01:14.572290",
     "exception": false,
     "start_time": "2020-08-17T15:01:14.555102",
     "status": "completed"
    },
    "tags": []
   },
   "source": [
    "## Salary vs Academic results"
   ]
  },
  {
   "cell_type": "code",
   "execution_count": 16,
   "metadata": {
    "execution": {
     "iopub.execute_input": "2020-08-17T15:01:14.612038Z",
     "iopub.status.busy": "2020-08-17T15:01:14.611262Z",
     "iopub.status.idle": "2020-08-17T15:01:14.614308Z",
     "shell.execute_reply": "2020-08-17T15:01:14.614940Z"
    },
    "papermill": {
     "duration": 0.025378,
     "end_time": "2020-08-17T15:01:14.615119",
     "exception": false,
     "start_time": "2020-08-17T15:01:14.589741",
     "status": "completed"
    },
    "tags": []
   },
   "outputs": [],
   "source": [
    "#dataset=dataset[dataset.salary<600000]"
   ]
  },
  {
   "cell_type": "code",
   "execution_count": 17,
   "metadata": {
    "execution": {
     "iopub.execute_input": "2020-08-17T15:01:14.663055Z",
     "iopub.status.busy": "2020-08-17T15:01:14.662290Z",
     "iopub.status.idle": "2020-08-17T15:01:15.597047Z",
     "shell.execute_reply": "2020-08-17T15:01:15.596431Z"
    },
    "papermill": {
     "duration": 0.964637,
     "end_time": "2020-08-17T15:01:15.597180",
     "exception": false,
     "start_time": "2020-08-17T15:01:14.632543",
     "status": "completed"
    },
    "tags": []
   },
   "outputs": [
    {
     "data": {
      "text/plain": [
       "<seaborn.axisgrid.JointGrid at 0x7efbcf459590>"
      ]
     },
     "execution_count": 17,
     "metadata": {},
     "output_type": "execute_result"
    },
    {
     "data": {
      "image/png": "[encoded data removed]",
      "text/plain": [
       "<Figure size 432x432 with 3 Axes>"
      ]
     },
     "metadata": {},
     "output_type": "display_data"
    }
   ],
   "source": [
    "sns.jointplot(x = dataset['ssc_p'], y = dataset['salary'], kind='hex')"
   ]
  },
  {
   "cell_type": "code",
   "execution_count": 18,
   "metadata": {
    "execution": {
     "iopub.execute_input": "2020-08-17T15:01:15.646391Z",
     "iopub.status.busy": "2020-08-17T15:01:15.641912Z",
     "iopub.status.idle": "2020-08-17T15:01:16.669460Z",
     "shell.execute_reply": "2020-08-17T15:01:16.668850Z"
    },
    "papermill": {
     "duration": 1.05389,
     "end_time": "2020-08-17T15:01:16.669618",
     "exception": false,
     "start_time": "2020-08-17T15:01:15.615728",
     "status": "completed"
    },
    "tags": []
   },
   "outputs": [
    {
     "data": {
      "text/plain": [
       "<seaborn.axisgrid.JointGrid at 0x7efbcf115e10>"
      ]
     },
     "execution_count": 18,
     "metadata": {},
     "output_type": "execute_result"
    },
    {
     "data": {
      "image/png": "[encoded data removed]",
      "text/plain": [
       "<Figure size 432x432 with 3 Axes>"
      ]
     },
     "metadata": {},
     "output_type": "display_data"
    }
   ],
   "source": [
    "sns.jointplot(x = dataset['hsc_p'], y = dataset['salary'], kind='hex')"
   ]
  },
  {
   "cell_type": "code",
   "execution_count": 19,
   "metadata": {
    "execution": {
     "iopub.execute_input": "2020-08-17T15:01:16.718381Z",
     "iopub.status.busy": "2020-08-17T15:01:16.717457Z",
     "iopub.status.idle": "2020-08-17T15:01:17.626514Z",
     "shell.execute_reply": "2020-08-17T15:01:17.625772Z"
    },
    "papermill": {
     "duration": 0.938717,
     "end_time": "2020-08-17T15:01:17.626655",
     "exception": false,
     "start_time": "2020-08-17T15:01:16.687938",
     "status": "completed"
    },
    "tags": []
   },
   "outputs": [
    {
     "data": {
      "text/plain": [
       "<seaborn.axisgrid.JointGrid at 0x7efbcf11eb50>"
      ]
     },
     "execution_count": 19,
     "metadata": {},
     "output_type": "execute_result"
    },
    {
     "data": {
      "image/png": "[encoded data removed]",
      "text/plain": [
       "<Figure size 432x432 with 3 Axes>"
      ]
     },
     "metadata": {},
     "output_type": "display_data"
    }
   ],
   "source": [
    "sns.jointplot(x = dataset['degree_p'], y = dataset['salary'], kind='hex')"
   ]
  },
  {
   "cell_type": "code",
   "execution_count": 20,
   "metadata": {
    "execution": {
     "iopub.execute_input": "2020-08-17T15:01:17.679239Z",
     "iopub.status.busy": "2020-08-17T15:01:17.675507Z",
     "iopub.status.idle": "2020-08-17T15:01:18.588012Z",
     "shell.execute_reply": "2020-08-17T15:01:18.588668Z"
    },
    "papermill": {
     "duration": 0.943298,
     "end_time": "2020-08-17T15:01:18.588842",
     "exception": false,
     "start_time": "2020-08-17T15:01:17.645544",
     "status": "completed"
    },
    "tags": []
   },
   "outputs": [
    {
     "data": {
      "text/plain": [
       "<seaborn.axisgrid.JointGrid at 0x7efbceeca850>"
      ]
     },
     "execution_count": 20,
     "metadata": {},
     "output_type": "execute_result"
    },
    {
     "data": {
      "image/png": "[encoded data removed]",
      "text/plain": [
       "<Figure size 432x432 with 3 Axes>"
      ]
     },
     "metadata": {},
     "output_type": "display_data"
    }
   ],
   "source": [
    "sns.jointplot(x = dataset['mba_p'], y = dataset['salary'], kind='hex')"
   ]
  },
  {
   "cell_type": "code",
   "execution_count": 21,
   "metadata": {
    "execution": {
     "iopub.execute_input": "2020-08-17T15:01:18.634683Z",
     "iopub.status.busy": "2020-08-17T15:01:18.633823Z",
     "iopub.status.idle": "2020-08-17T15:01:19.670799Z",
     "shell.execute_reply": "2020-08-17T15:01:19.670020Z"
    },
    "papermill": {
     "duration": 1.062517,
     "end_time": "2020-08-17T15:01:19.670937",
     "exception": false,
     "start_time": "2020-08-17T15:01:18.608420",
     "status": "completed"
    },
    "tags": []
   },
   "outputs": [
    {
     "data": {
      "text/plain": [
       "<seaborn.axisgrid.JointGrid at 0x7efbced58590>"
      ]
     },
     "execution_count": 21,
     "metadata": {},
     "output_type": "execute_result"
    },
    {
     "data": {
      "image/png": "[encoded data removed]",
      "text/plain": [
       "<Figure size 432x432 with 3 Axes>"
      ]
     },
     "metadata": {},
     "output_type": "display_data"
    }
   ],
   "source": [
    "sns.jointplot(x = dataset['etest_p'], y = dataset['salary'], kind='hex')"
   ]
  },
  {
   "cell_type": "markdown",
   "execution_count": null,
   "metadata": {
    "papermill": {
     "duration": 0.019382,
     "end_time": "2020-08-17T15:01:19.710198",
     "exception": false,
     "start_time": "2020-08-17T15:01:19.690816",
     "status": "completed"
    },
    "tags": []
   },
   "source": [
    "Observation 3 - Students with average percentage of 60-70 are able to get around 250000 INR anually. Higher percentage does not neccesarily corresponds to higher salary package."
   ]
  },
  {
   "cell_type": "markdown",
   "execution_count": null,
   "metadata": {
    "papermill": {
     "duration": 0.019262,
     "end_time": "2020-08-17T15:01:19.749060",
     "exception": false,
     "start_time": "2020-08-17T15:01:19.729798",
     "status": "completed"
    },
    "tags": []
   },
   "source": [
    "# Data Pre-processing"
   ]
  },
  {
   "cell_type": "code",
   "execution_count": 22,
   "metadata": {
    "execution": {
     "iopub.execute_input": "2020-08-17T15:01:19.800405Z",
     "iopub.status.busy": "2020-08-17T15:01:19.799637Z",
     "iopub.status.idle": "2020-08-17T15:01:19.802696Z",
     "shell.execute_reply": "2020-08-17T15:01:19.803617Z"
    },
    "papermill": {
     "duration": 0.035251,
     "end_time": "2020-08-17T15:01:19.803827",
     "exception": false,
     "start_time": "2020-08-17T15:01:19.768576",
     "status": "completed"
    },
    "tags": []
   },
   "outputs": [
    {
     "name": "stdout",
     "output_type": "stream",
     "text": [
      "There are 7 numeric and 8 categorical columns in train data\n"
     ]
    }
   ],
   "source": [
    "numeric_data = dataset.select_dtypes(include=[np.number])\n",
    "cat_data = dataset.select_dtypes(exclude=[np.number])\n",
    "print (\"There are {} numeric and {} categorical columns in train data\".format(numeric_data.shape[1],cat_data.shape[1]))"
   ]
  },
  {
   "cell_type": "code",
   "execution_count": 23,
   "metadata": {
    "execution": {
     "iopub.execute_input": "2020-08-17T15:01:19.852794Z",
     "iopub.status.busy": "2020-08-17T15:01:19.851715Z",
     "iopub.status.idle": "2020-08-17T15:01:19.856739Z",
     "shell.execute_reply": "2020-08-17T15:01:19.856107Z"
    },
    "papermill": {
     "duration": 0.032367,
     "end_time": "2020-08-17T15:01:19.856887",
     "exception": false,
     "start_time": "2020-08-17T15:01:19.824520",
     "status": "completed"
    },
    "tags": []
   },
   "outputs": [
    {
     "data": {
      "text/plain": [
       "sl_no               int64\n",
       "gender             object\n",
       "ssc_p             float64\n",
       "ssc_b              object\n",
       "hsc_p             float64\n",
       "hsc_b              object\n",
       "hsc_s              object\n",
       "degree_p          float64\n",
       "degree_t           object\n",
       "workex             object\n",
       "etest_p           float64\n",
       "specialisation     object\n",
       "mba_p             float64\n",
       "status             object\n",
       "salary            float64\n",
       "dtype: object"
      ]
     },
     "execution_count": 23,
     "metadata": {},
     "output_type": "execute_result"
    }
   ],
   "source": [
    "dataset.dtypes"
   ]
  },
  {
   "cell_type": "code",
   "execution_count": 24,
   "metadata": {
    "execution": {
     "iopub.execute_input": "2020-08-17T15:01:19.906327Z",
     "iopub.status.busy": "2020-08-17T15:01:19.905557Z",
     "iopub.status.idle": "2020-08-17T15:01:19.967492Z",
     "shell.execute_reply": "2020-08-17T15:01:19.966666Z"
    },
    "papermill": {
     "duration": 0.090456,
     "end_time": "2020-08-17T15:01:19.967627",
     "exception": false,
     "start_time": "2020-08-17T15:01:19.877171",
     "status": "completed"
    },
    "tags": []
   },
   "outputs": [],
   "source": [
    "# Label Encoding\n",
    "from sklearn.preprocessing import LabelEncoder\n",
    "le = LabelEncoder()\n",
    "def encoder(df,col_name):\n",
    "    df[col_name] = le.fit_transform(dataset[col_name])\n",
    "    \n",
    "encoder(dataset,'gender')\n",
    "encoder(dataset,'ssc_b')\n",
    "encoder(dataset,'hsc_b')\n",
    "encoder(dataset,'hsc_s')\n",
    "encoder(dataset,'degree_t')\n",
    "encoder(dataset,'workex')\n",
    "encoder(dataset,'specialisation')\n",
    "encoder(dataset,'status')"
   ]
  },
  {
   "cell_type": "code",
   "execution_count": 25,
   "metadata": {
    "execution": {
     "iopub.execute_input": "2020-08-17T15:01:20.016979Z",
     "iopub.status.busy": "2020-08-17T15:01:20.016197Z",
     "iopub.status.idle": "2020-08-17T15:01:20.019790Z",
     "shell.execute_reply": "2020-08-17T15:01:20.019049Z"
    },
    "papermill": {
     "duration": 0.031925,
     "end_time": "2020-08-17T15:01:20.019919",
     "exception": false,
     "start_time": "2020-08-17T15:01:19.987994",
     "status": "completed"
    },
    "tags": []
   },
   "outputs": [],
   "source": [
    "# splitting dataset\n",
    "# removing salary feature as it is a dependent feature\n",
    "target = dataset['status']\n",
    "drop = ['sl_no','status','salary']\n",
    "train = dataset.drop(drop,axis=1)"
   ]
  },
  {
   "cell_type": "code",
   "execution_count": 26,
   "metadata": {
    "execution": {
     "iopub.execute_input": "2020-08-17T15:01:20.066805Z",
     "iopub.status.busy": "2020-08-17T15:01:20.066037Z",
     "iopub.status.idle": "2020-08-17T15:01:20.451174Z",
     "shell.execute_reply": "2020-08-17T15:01:20.450495Z"
    },
    "papermill": {
     "duration": 0.410972,
     "end_time": "2020-08-17T15:01:20.451302",
     "exception": false,
     "start_time": "2020-08-17T15:01:20.040330",
     "status": "completed"
    },
    "tags": []
   },
   "outputs": [],
   "source": [
    "# Using SMOTE to balance the categories\n",
    "\n",
    "from imblearn.combine import SMOTETomek\n",
    "smk = SMOTETomek(random_state = 42)\n",
    "train, target = smk.fit_sample(train,target)"
   ]
  },
  {
   "cell_type": "markdown",
   "execution_count": null,
   "metadata": {
    "papermill": {
     "duration": 0.020044,
     "end_time": "2020-08-17T15:01:20.491725",
     "exception": false,
     "start_time": "2020-08-17T15:01:20.471681",
     "status": "completed"
    },
    "tags": []
   },
   "source": [
    "# Model Building"
   ]
  },
  {
   "cell_type": "markdown",
   "execution_count": null,
   "metadata": {
    "papermill": {
     "duration": 0.020006,
     "end_time": "2020-08-17T15:01:20.532110",
     "exception": false,
     "start_time": "2020-08-17T15:01:20.512104",
     "status": "completed"
    },
    "tags": []
   },
   "source": [
    "### We will be using two models for comparison, one tree based and one non-tree based.\n",
    "\n",
    "### 1. Decision Trees\n",
    "### 2. Naive Baye's"
   ]
  },
  {
   "cell_type": "code",
   "execution_count": 27,
   "metadata": {
    "execution": {
     "iopub.execute_input": "2020-08-17T15:01:20.583088Z",
     "iopub.status.busy": "2020-08-17T15:01:20.582027Z",
     "iopub.status.idle": "2020-08-17T15:01:20.585215Z",
     "shell.execute_reply": "2020-08-17T15:01:20.584455Z"
    },
    "papermill": {
     "duration": 0.032953,
     "end_time": "2020-08-17T15:01:20.585342",
     "exception": false,
     "start_time": "2020-08-17T15:01:20.552389",
     "status": "completed"
    },
    "tags": []
   },
   "outputs": [],
   "source": [
    "#Now we will split the dataset in the ratio of 75:25 for train and test\n",
    "\n",
    "from sklearn.model_selection import train_test_split\n",
    "X_train, X_test, y_train, y_test = train_test_split(train, target, test_size = 0.25, random_state = 0)"
   ]
  },
  {
   "cell_type": "markdown",
   "execution_count": null,
   "metadata": {
    "papermill": {
     "duration": 0.020487,
     "end_time": "2020-08-17T15:01:20.626549",
     "exception": false,
     "start_time": "2020-08-17T15:01:20.606062",
     "status": "completed"
    },
    "tags": []
   },
   "source": [
    "## Decision Trees"
   ]
  },
  {
   "cell_type": "code",
   "execution_count": 28,
   "metadata": {
    "execution": {
     "iopub.execute_input": "2020-08-17T15:01:20.680889Z",
     "iopub.status.busy": "2020-08-17T15:01:20.679386Z",
     "iopub.status.idle": "2020-08-17T15:01:20.687960Z",
     "shell.execute_reply": "2020-08-17T15:01:20.687188Z"
    },
    "papermill": {
     "duration": 0.039974,
     "end_time": "2020-08-17T15:01:20.688092",
     "exception": false,
     "start_time": "2020-08-17T15:01:20.648118",
     "status": "completed"
    },
    "tags": []
   },
   "outputs": [],
   "source": [
    "from sklearn.tree import DecisionTreeClassifier\n",
    "model=DecisionTreeClassifier(criterion='gini', splitter='best',\n",
    "                             max_depth=5, min_samples_split=2,\n",
    "                             min_samples_leaf=1, min_weight_fraction_leaf=0.0,\n",
    "                             max_features=None, random_state=None,\n",
    "                             max_leaf_nodes=None, min_impurity_decrease=0.0, \n",
    "                             min_impurity_split=None, class_weight=None, \n",
    "                             presort='deprecated', ccp_alpha=0.0)\n",
    "model.fit(X_train,y_train)\n",
    "y_pred=model.predict(X_test)"
   ]
  },
  {
   "cell_type": "code",
   "execution_count": 29,
   "metadata": {
    "execution": {
     "iopub.execute_input": "2020-08-17T15:01:20.789205Z",
     "iopub.status.busy": "2020-08-17T15:01:20.788423Z",
     "iopub.status.idle": "2020-08-17T15:01:20.797487Z",
     "shell.execute_reply": "2020-08-17T15:01:20.796640Z"
    },
    "papermill": {
     "duration": 0.08893,
     "end_time": "2020-08-17T15:01:20.797655",
     "exception": false,
     "start_time": "2020-08-17T15:01:20.708725",
     "status": "completed"
    },
    "tags": []
   },
   "outputs": [
    {
     "name": "stdout",
     "output_type": "stream",
     "text": [
      "Accuracy - 0.821917808219178\n",
      "Precision - 0.8337484433374844\n",
      "Recall - 0.821917808219178\n",
      "F1 - 0.8239785471790333\n"
     ]
    }
   ],
   "source": [
    "from sklearn.metrics import precision_score\n",
    "from sklearn.metrics import recall_score\n",
    "from sklearn.metrics import accuracy_score\n",
    "from sklearn.metrics import f1_score\n",
    "\n",
    "accuracy=accuracy_score(y_test,y_pred) \n",
    "precision=precision_score(y_test,y_pred,average='weighted')\n",
    "recall=recall_score(y_test,y_pred,average='weighted')\n",
    "f1=f1_score(y_test,y_pred,average='weighted')\n",
    "\n",
    "print('Accuracy - {}'.format(accuracy))\n",
    "print('Precision - {}'.format(precision))\n",
    "print('Recall - {}'.format(recall))\n",
    "print('F1 - {}'.format(f1))"
   ]
  },
  {
   "cell_type": "code",
   "execution_count": 30,
   "metadata": {
    "execution": {
     "iopub.execute_input": "2020-08-17T15:01:20.847297Z",
     "iopub.status.busy": "2020-08-17T15:01:20.846184Z",
     "iopub.status.idle": "2020-08-17T15:01:20.859101Z",
     "shell.execute_reply": "2020-08-17T15:01:20.858434Z"
    },
    "papermill": {
     "duration": 0.040391,
     "end_time": "2020-08-17T15:01:20.859274",
     "exception": false,
     "start_time": "2020-08-17T15:01:20.818883",
     "status": "completed"
    },
    "tags": []
   },
   "outputs": [
    {
     "name": "stdout",
     "output_type": "stream",
     "text": [
      "Average precision-recall score: 0.68\n"
     ]
    }
   ],
   "source": [
    "from sklearn.metrics import average_precision_score\n",
    "average_precision = average_precision_score(y_test, y_pred)\n",
    "\n",
    "print('Average precision-recall score: {0:0.2f}'.format(\n",
    "      average_precision))"
   ]
  },
  {
   "cell_type": "code",
   "execution_count": 31,
   "metadata": {
    "execution": {
     "iopub.execute_input": "2020-08-17T15:01:20.911526Z",
     "iopub.status.busy": "2020-08-17T15:01:20.910668Z",
     "iopub.status.idle": "2020-08-17T15:01:21.249042Z",
     "shell.execute_reply": "2020-08-17T15:01:21.248219Z"
    },
    "papermill": {
     "duration": 0.368431,
     "end_time": "2020-08-17T15:01:21.249254",
     "exception": false,
     "start_time": "2020-08-17T15:01:20.880823",
     "status": "completed"
    },
    "tags": []
   },
   "outputs": [
    {
     "data": {
      "text/plain": [
       "Text(0.5, 1.0, '2-class Precision-Recall curve: AP=0.68')"
      ]
     },
     "execution_count": 31,
     "metadata": {},
     "output_type": "execute_result"
    },
    {
     "data": {
      "image/png": "[encoded data removed]",
      "text/plain": [
       "<Figure size 432x288 with 1 Axes>"
      ]
     },
     "metadata": {},
     "output_type": "display_data"
    }
   ],
   "source": [
    "from sklearn.metrics import precision_recall_curve\n",
    "from sklearn.metrics import plot_precision_recall_curve\n",
    "import matplotlib.pyplot as plt\n",
    "\n",
    "disp = plot_precision_recall_curve(model, X_test, y_test)\n",
    "disp.ax_.set_title('2-class Precision-Recall curve: '\n",
    "                   'AP={0:0.2f}'.format(average_precision))"
   ]
  },
  {
   "cell_type": "code",
   "execution_count": 32,
   "metadata": {
    "execution": {
     "iopub.execute_input": "2020-08-17T15:01:21.307783Z",
     "iopub.status.busy": "2020-08-17T15:01:21.306892Z",
     "iopub.status.idle": "2020-08-17T15:01:21.309938Z",
     "shell.execute_reply": "2020-08-17T15:01:21.310503Z"
    },
    "papermill": {
     "duration": 0.039964,
     "end_time": "2020-08-17T15:01:21.310682",
     "exception": false,
     "start_time": "2020-08-17T15:01:21.270718",
     "status": "completed"
    },
    "tags": []
   },
   "outputs": [],
   "source": [
    "import itertools\n",
    "\n",
    "def plot_confusion_matrix(cm, classes,\n",
    "                          normalize=False,\n",
    "                          title='Confusion matrix',\n",
    "                          cmap=plt.cm.Blues):\n",
    "    \"\"\"\n",
    "    This function prints and plots the confusion matrix.\n",
    "    Normalization can be applied by setting `normalize=True`.\n",
    "    \"\"\"\n",
    "    plt.imshow(cm, interpolation='nearest', cmap=cmap)\n",
    "    plt.title(title)\n",
    "    plt.colorbar()\n",
    "    tick_marks = np.arange(len(classes))\n",
    "    plt.xticks(tick_marks, classes, rotation=0)\n",
    "    plt.yticks(tick_marks, classes)\n",
    "\n",
    "    if normalize:\n",
    "        cm = cm.astype('float') / cm.sum(axis=1)[:, np.newaxis]\n",
    "        \n",
    "\n",
    "    thresh = cm.max() / 2.\n",
    "    for i, j in itertools.product(range(cm.shape[0]), range(cm.shape[1])):\n",
    "        plt.text(j, i, cm[i, j],\n",
    "                 horizontalalignment=\"center\",\n",
    "                 color=\"white\" if cm[i, j] > thresh else \"black\")\n",
    "\n",
    "    plt.tight_layout()\n",
    "    plt.ylabel('True label')\n",
    "    plt.xlabel('Predicted label')"
   ]
  },
  {
   "cell_type": "code",
   "execution_count": 33,
   "metadata": {
    "execution": {
     "iopub.execute_input": "2020-08-17T15:01:21.370251Z",
     "iopub.status.busy": "2020-08-17T15:01:21.369499Z",
     "iopub.status.idle": "2020-08-17T15:01:21.608248Z",
     "shell.execute_reply": "2020-08-17T15:01:21.608838Z"
    },
    "papermill": {
     "duration": 0.276327,
     "end_time": "2020-08-17T15:01:21.609038",
     "exception": false,
     "start_time": "2020-08-17T15:01:21.332711",
     "status": "completed"
    },
    "tags": []
   },
   "outputs": [
    {
     "data": {
      "image/png": "[encoded data removed]",
      "text/plain": [
       "<Figure size 432x288 with 2 Axes>"
      ]
     },
     "metadata": {},
     "output_type": "display_data"
    }
   ],
   "source": [
    "from sklearn.metrics import confusion_matrix\n",
    "cnf_matrix = confusion_matrix(y_test,y_pred)\n",
    "np.set_printoptions(precision=2)\n",
    "class_names = [0,1]\n",
    "plt.figure()\n",
    "plot_confusion_matrix(cnf_matrix\n",
    "                      , classes=class_names\n",
    "                      , title='Confusion matrix')\n",
    "plt.show()"
   ]
  },
  {
   "cell_type": "markdown",
   "execution_count": null,
   "metadata": {
    "papermill": {
     "duration": 0.021549,
     "end_time": "2020-08-17T15:01:21.653036",
     "exception": false,
     "start_time": "2020-08-17T15:01:21.631487",
     "status": "completed"
    },
    "tags": []
   },
   "source": [
    "## Naive Baye's"
   ]
  },
  {
   "cell_type": "code",
   "execution_count": 34,
   "metadata": {
    "execution": {
     "iopub.execute_input": "2020-08-17T15:01:21.703213Z",
     "iopub.status.busy": "2020-08-17T15:01:21.702338Z",
     "iopub.status.idle": "2020-08-17T15:01:21.713878Z",
     "shell.execute_reply": "2020-08-17T15:01:21.714437Z"
    },
    "papermill": {
     "duration": 0.039607,
     "end_time": "2020-08-17T15:01:21.714629",
     "exception": false,
     "start_time": "2020-08-17T15:01:21.675022",
     "status": "completed"
    },
    "tags": []
   },
   "outputs": [],
   "source": [
    "from sklearn.naive_bayes import GaussianNB\n",
    "nb_model=GaussianNB()\n",
    "nb_model.fit(X_train,y_train)\n",
    "y_pred=nb_model.predict(X_test)"
   ]
  },
  {
   "cell_type": "code",
   "execution_count": 35,
   "metadata": {
    "execution": {
     "iopub.execute_input": "2020-08-17T15:01:21.774416Z",
     "iopub.status.busy": "2020-08-17T15:01:21.771143Z",
     "iopub.status.idle": "2020-08-17T15:01:21.780682Z",
     "shell.execute_reply": "2020-08-17T15:01:21.779903Z"
    },
    "papermill": {
     "duration": 0.044032,
     "end_time": "2020-08-17T15:01:21.780814",
     "exception": false,
     "start_time": "2020-08-17T15:01:21.736782",
     "status": "completed"
    },
    "tags": []
   },
   "outputs": [
    {
     "name": "stdout",
     "output_type": "stream",
     "text": [
      "Accuracy - 0.726027397260274\n",
      "Precision - 0.726027397260274\n",
      "Recall - 0.726027397260274\n",
      "F1 - 0.726027397260274\n"
     ]
    }
   ],
   "source": [
    "from sklearn.metrics import precision_score\n",
    "from sklearn.metrics import recall_score\n",
    "from sklearn.metrics import accuracy_score\n",
    "from sklearn.metrics import f1_score\n",
    "\n",
    "accuracy=accuracy_score(y_test,y_pred) \n",
    "precision=precision_score(y_test,y_pred,average='weighted')\n",
    "recall=recall_score(y_test,y_pred,average='weighted')\n",
    "f1=f1_score(y_test,y_pred,average='weighted')\n",
    "\n",
    "print('Accuracy - {}'.format(accuracy))\n",
    "print('Precision - {}'.format(precision))\n",
    "print('Recall - {}'.format(recall))\n",
    "print('F1 - {}'.format(f1))"
   ]
  },
  {
   "cell_type": "code",
   "execution_count": 36,
   "metadata": {
    "execution": {
     "iopub.execute_input": "2020-08-17T15:01:21.833939Z",
     "iopub.status.busy": "2020-08-17T15:01:21.832931Z",
     "iopub.status.idle": "2020-08-17T15:01:21.836630Z",
     "shell.execute_reply": "2020-08-17T15:01:21.837267Z"
    },
    "papermill": {
     "duration": 0.033965,
     "end_time": "2020-08-17T15:01:21.837499",
     "exception": false,
     "start_time": "2020-08-17T15:01:21.803534",
     "status": "completed"
    },
    "tags": []
   },
   "outputs": [
    {
     "name": "stdout",
     "output_type": "stream",
     "text": [
      "Average precision-recall score: 0.55\n"
     ]
    }
   ],
   "source": [
    "from sklearn.metrics import average_precision_score\n",
    "average_precision = average_precision_score(y_test, y_pred)\n",
    "\n",
    "print('Average precision-recall score: {0:0.2f}'.format(\n",
    "      average_precision))"
   ]
  },
  {
   "cell_type": "code",
   "execution_count": 37,
   "metadata": {
    "execution": {
     "iopub.execute_input": "2020-08-17T15:01:21.893134Z",
     "iopub.status.busy": "2020-08-17T15:01:21.892186Z",
     "iopub.status.idle": "2020-08-17T15:01:22.219962Z",
     "shell.execute_reply": "2020-08-17T15:01:22.220543Z"
    },
    "papermill": {
     "duration": 0.359776,
     "end_time": "2020-08-17T15:01:22.220722",
     "exception": false,
     "start_time": "2020-08-17T15:01:21.860946",
     "status": "completed"
    },
    "tags": []
   },
   "outputs": [
    {
     "data": {
      "text/plain": [
       "Text(0.5, 1.0, '2-class Precision-Recall curve: AP=0.55')"
      ]
     },
     "execution_count": 37,
     "metadata": {},
     "output_type": "execute_result"
    },
    {
     "data": {
      "image/png": "[encoded data removed]",
      "text/plain": [
       "<Figure size 432x288 with 1 Axes>"
      ]
     },
     "metadata": {},
     "output_type": "display_data"
    }
   ],
   "source": [
    "from sklearn.metrics import precision_recall_curve\n",
    "from sklearn.metrics import plot_precision_recall_curve\n",
    "import matplotlib.pyplot as plt\n",
    "\n",
    "disp = plot_precision_recall_curve(model, X_test, y_test)\n",
    "disp.ax_.set_title('2-class Precision-Recall curve: '\n",
    "                   'AP={0:0.2f}'.format(average_precision))"
   ]
  },
  {
   "cell_type": "code",
   "execution_count": 38,
   "metadata": {
    "execution": {
     "iopub.execute_input": "2020-08-17T15:01:22.282222Z",
     "iopub.status.busy": "2020-08-17T15:01:22.281104Z",
     "iopub.status.idle": "2020-08-17T15:01:22.284635Z",
     "shell.execute_reply": "2020-08-17T15:01:22.284033Z"
    },
    "papermill": {
     "duration": 0.040843,
     "end_time": "2020-08-17T15:01:22.284769",
     "exception": false,
     "start_time": "2020-08-17T15:01:22.243926",
     "status": "completed"
    },
    "tags": []
   },
   "outputs": [],
   "source": [
    "import itertools\n",
    "\n",
    "def plot_confusion_matrix(cm, classes,\n",
    "                          normalize=False,\n",
    "                          title='Confusion matrix',\n",
    "                          cmap=plt.cm.Blues):\n",
    "    \"\"\"\n",
    "    This function prints and plots the confusion matrix.\n",
    "    Normalization can be applied by setting `normalize=True`.\n",
    "    \"\"\"\n",
    "    plt.imshow(cm, interpolation='nearest', cmap=cmap)\n",
    "    plt.title(title)\n",
    "    plt.colorbar()\n",
    "    tick_marks = np.arange(len(classes))\n",
    "    plt.xticks(tick_marks, classes, rotation=0)\n",
    "    plt.yticks(tick_marks, classes)\n",
    "\n",
    "    if normalize:\n",
    "        cm = cm.astype('float') / cm.sum(axis=1)[:, np.newaxis]\n",
    "        \n",
    "\n",
    "    thresh = cm.max() / 2.\n",
    "    for i, j in itertools.product(range(cm.shape[0]), range(cm.shape[1])):\n",
    "        plt.text(j, i, cm[i, j],\n",
    "                 horizontalalignment=\"center\",\n",
    "                 color=\"white\" if cm[i, j] > thresh else \"black\")\n",
    "\n",
    "    plt.tight_layout()\n",
    "    plt.ylabel('True label')\n",
    "    plt.xlabel('Predicted label')"
   ]
  },
  {
   "cell_type": "code",
   "execution_count": 39,
   "metadata": {
    "execution": {
     "iopub.execute_input": "2020-08-17T15:01:22.344762Z",
     "iopub.status.busy": "2020-08-17T15:01:22.343917Z",
     "iopub.status.idle": "2020-08-17T15:01:22.580537Z",
     "shell.execute_reply": "2020-08-17T15:01:22.579763Z"
    },
    "papermill": {
     "duration": 0.272735,
     "end_time": "2020-08-17T15:01:22.580676",
     "exception": false,
     "start_time": "2020-08-17T15:01:22.307941",
     "status": "completed"
    },
    "tags": []
   },
   "outputs": [
    {
     "data": {
      "image/png": "[encoded data removed]",
      "text/plain": [
       "<Figure size 432x288 with 2 Axes>"
      ]
     },
     "metadata": {},
     "output_type": "display_data"
    }
   ],
   "source": [
    "from sklearn.metrics import confusion_matrix\n",
    "cnf_matrix = confusion_matrix(y_test,y_pred)\n",
    "np.set_printoptions(precision=2)\n",
    "class_names = [0,1]\n",
    "plt.figure()\n",
    "plot_confusion_matrix(cnf_matrix\n",
    "                      , classes=class_names\n",
    "                      , title='Confusion matrix')\n",
    "plt.show()"
   ]
  },
  {
   "cell_type": "markdown",
   "execution_count": null,
   "metadata": {
    "papermill": {
     "duration": 0.023068,
     "end_time": "2020-08-17T15:01:22.627359",
     "exception": false,
     "start_time": "2020-08-17T15:01:22.604291",
     "status": "completed"
    },
    "tags": []
   },
   "source": [
    "# Conclusion"
   ]
  },
  {
   "cell_type": "markdown",
   "execution_count": null,
   "metadata": {
    "papermill": {
     "duration": 0.023819,
     "end_time": "2020-08-17T15:01:22.674798",
     "exception": false,
     "start_time": "2020-08-17T15:01:22.650979",
     "status": "completed"
    },
    "tags": []
   },
   "source": [
    "Decision Trees are performing better with an accuracy of 82% in comparison to Naive Baye's which has an accuracy of 72%. We can further improve the accuracy by using ensembling techniques like Random Forest and Gradient Boosted Trees. Salary feature was removed because it was a dependent feature. "
   ]
  }
 ],
 "metadata": {
  "kernelspec": {
   "display_name": "Python 3",
   "language": "python",
   "name": "python3"
  },
  "language_info": {
   "codemirror_mode": {
    "name": "ipython",
    "version": 3
   },
   "file_extension": ".py",
   "mimetype": "text/x-python",
   "name": "python",
   "nbconvert_exporter": "python",
   "pygments_lexer": "ipython3",
   "version": "3.7.6"
  },
  "papermill": {
   "duration": 17.804676,
   "end_time": "2020-08-17T15:01:23.804210",
   "environment_variables": {},
   "exception": null,
   "input_path": "__notebook__.ipynb",
   "output_path": "__notebook__.ipynb",
   "parameters": {},
   "start_time": "2020-08-17T15:01:05.999534",
   "version": "2.1.0"
  }
 },
 "nbformat": 4,
 "nbformat_minor": 4
}
